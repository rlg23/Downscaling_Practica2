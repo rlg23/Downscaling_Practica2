{
 "cells": [
  {
   "attachments": {},
   "cell_type": "markdown",
   "metadata": {},
   "source": [
    "#### Test3: \n",
    "Este archivo tiene por finalidad mostrar el flujo completo del preprocesamiento de los parches y una eventual entrada en la red. Para más detalle, visitar el archivo [A1_guiaNC.ipynb](A1_guiaNC.ipynb)"
   ]
  },
  {
   "cell_type": "code",
   "execution_count": 3,
   "metadata": {},
   "outputs": [
    {
     "name": "stdout",
     "output_type": "stream",
     "text": [
      "2.11.0\n"
     ]
    }
   ],
   "source": [
    "import xarray as xr\n",
    "import tensorflow as tf\n",
    "import numpy as np\n",
    "import glob\n",
    "import os\n",
    "import numpy as np\n",
    "from tqdm import tqdm\n",
    "import B1_readNCdata as nc\n",
    "import B2_Model as cnn"
   ]
  },
  {
   "attachments": {},
   "cell_type": "markdown",
   "metadata": {},
   "source": [
    "#### 1-. Instanciamiento de las clases, seteo de atributos importantes y primeros pasos:"
   ]
  },
  {
   "cell_type": "code",
   "execution_count": 5,
   "metadata": {},
   "outputs": [
    {
     "name": "stderr",
     "output_type": "stream",
     "text": [
      "c:\\Users\\ruben\\anaconda3\\envs\\dwn_104\\lib\\site-packages\\xarray\\backends\\plugins.py:71: RuntimeWarning: Engine 'cfgrib' loading failed:\n",
      "Cannot find the ecCodes library\n",
      "  warnings.warn(f\"Engine {name!r} loading failed:\\n{ex}\", RuntimeWarning)\n"
     ]
    },
    {
     "data": {
      "text/html": [
       "<div><svg style=\"position: absolute; width: 0; height: 0; overflow: hidden\">\n",
       "<defs>\n",
       "<symbol id=\"icon-database\" viewBox=\"0 0 32 32\">\n",
       "<path d=\"M16 0c-8.837 0-16 2.239-16 5v4c0 2.761 7.163 5 16 5s16-2.239 16-5v-4c0-2.761-7.163-5-16-5z\"></path>\n",
       "<path d=\"M16 17c-8.837 0-16-2.239-16-5v6c0 2.761 7.163 5 16 5s16-2.239 16-5v-6c0 2.761-7.163 5-16 5z\"></path>\n",
       "<path d=\"M16 26c-8.837 0-16-2.239-16-5v6c0 2.761 7.163 5 16 5s16-2.239 16-5v-6c0 2.761-7.163 5-16 5z\"></path>\n",
       "</symbol>\n",
       "<symbol id=\"icon-file-text2\" viewBox=\"0 0 32 32\">\n",
       "<path d=\"M28.681 7.159c-0.694-0.947-1.662-2.053-2.724-3.116s-2.169-2.030-3.116-2.724c-1.612-1.182-2.393-1.319-2.841-1.319h-15.5c-1.378 0-2.5 1.121-2.5 2.5v27c0 1.378 1.122 2.5 2.5 2.5h23c1.378 0 2.5-1.122 2.5-2.5v-19.5c0-0.448-0.137-1.23-1.319-2.841zM24.543 5.457c0.959 0.959 1.712 1.825 2.268 2.543h-4.811v-4.811c0.718 0.556 1.584 1.309 2.543 2.268zM28 29.5c0 0.271-0.229 0.5-0.5 0.5h-23c-0.271 0-0.5-0.229-0.5-0.5v-27c0-0.271 0.229-0.5 0.5-0.5 0 0 15.499-0 15.5 0v7c0 0.552 0.448 1 1 1h7v19.5z\"></path>\n",
       "<path d=\"M23 26h-14c-0.552 0-1-0.448-1-1s0.448-1 1-1h14c0.552 0 1 0.448 1 1s-0.448 1-1 1z\"></path>\n",
       "<path d=\"M23 22h-14c-0.552 0-1-0.448-1-1s0.448-1 1-1h14c0.552 0 1 0.448 1 1s-0.448 1-1 1z\"></path>\n",
       "<path d=\"M23 18h-14c-0.552 0-1-0.448-1-1s0.448-1 1-1h14c0.552 0 1 0.448 1 1s-0.448 1-1 1z\"></path>\n",
       "</symbol>\n",
       "</defs>\n",
       "</svg>\n",
       "<style>/* CSS stylesheet for displaying xarray objects in jupyterlab.\n",
       " *\n",
       " */\n",
       "\n",
       ":root {\n",
       "  --xr-font-color0: var(--jp-content-font-color0, rgba(0, 0, 0, 1));\n",
       "  --xr-font-color2: var(--jp-content-font-color2, rgba(0, 0, 0, 0.54));\n",
       "  --xr-font-color3: var(--jp-content-font-color3, rgba(0, 0, 0, 0.38));\n",
       "  --xr-border-color: var(--jp-border-color2, #e0e0e0);\n",
       "  --xr-disabled-color: var(--jp-layout-color3, #bdbdbd);\n",
       "  --xr-background-color: var(--jp-layout-color0, white);\n",
       "  --xr-background-color-row-even: var(--jp-layout-color1, white);\n",
       "  --xr-background-color-row-odd: var(--jp-layout-color2, #eeeeee);\n",
       "}\n",
       "\n",
       "html[theme=dark],\n",
       "body[data-theme=dark],\n",
       "body.vscode-dark {\n",
       "  --xr-font-color0: rgba(255, 255, 255, 1);\n",
       "  --xr-font-color2: rgba(255, 255, 255, 0.54);\n",
       "  --xr-font-color3: rgba(255, 255, 255, 0.38);\n",
       "  --xr-border-color: #1F1F1F;\n",
       "  --xr-disabled-color: #515151;\n",
       "  --xr-background-color: #111111;\n",
       "  --xr-background-color-row-even: #111111;\n",
       "  --xr-background-color-row-odd: #313131;\n",
       "}\n",
       "\n",
       ".xr-wrap {\n",
       "  display: block !important;\n",
       "  min-width: 300px;\n",
       "  max-width: 700px;\n",
       "}\n",
       "\n",
       ".xr-text-repr-fallback {\n",
       "  /* fallback to plain text repr when CSS is not injected (untrusted notebook) */\n",
       "  display: none;\n",
       "}\n",
       "\n",
       ".xr-header {\n",
       "  padding-top: 6px;\n",
       "  padding-bottom: 6px;\n",
       "  margin-bottom: 4px;\n",
       "  border-bottom: solid 1px var(--xr-border-color);\n",
       "}\n",
       "\n",
       ".xr-header > div,\n",
       ".xr-header > ul {\n",
       "  display: inline;\n",
       "  margin-top: 0;\n",
       "  margin-bottom: 0;\n",
       "}\n",
       "\n",
       ".xr-obj-type,\n",
       ".xr-array-name {\n",
       "  margin-left: 2px;\n",
       "  margin-right: 10px;\n",
       "}\n",
       "\n",
       ".xr-obj-type {\n",
       "  color: var(--xr-font-color2);\n",
       "}\n",
       "\n",
       ".xr-sections {\n",
       "  padding-left: 0 !important;\n",
       "  display: grid;\n",
       "  grid-template-columns: 150px auto auto 1fr 20px 20px;\n",
       "}\n",
       "\n",
       ".xr-section-item {\n",
       "  display: contents;\n",
       "}\n",
       "\n",
       ".xr-section-item input {\n",
       "  display: none;\n",
       "}\n",
       "\n",
       ".xr-section-item input + label {\n",
       "  color: var(--xr-disabled-color);\n",
       "}\n",
       "\n",
       ".xr-section-item input:enabled + label {\n",
       "  cursor: pointer;\n",
       "  color: var(--xr-font-color2);\n",
       "}\n",
       "\n",
       ".xr-section-item input:enabled + label:hover {\n",
       "  color: var(--xr-font-color0);\n",
       "}\n",
       "\n",
       ".xr-section-summary {\n",
       "  grid-column: 1;\n",
       "  color: var(--xr-font-color2);\n",
       "  font-weight: 500;\n",
       "}\n",
       "\n",
       ".xr-section-summary > span {\n",
       "  display: inline-block;\n",
       "  padding-left: 0.5em;\n",
       "}\n",
       "\n",
       ".xr-section-summary-in:disabled + label {\n",
       "  color: var(--xr-font-color2);\n",
       "}\n",
       "\n",
       ".xr-section-summary-in + label:before {\n",
       "  display: inline-block;\n",
       "  content: '►';\n",
       "  font-size: 11px;\n",
       "  width: 15px;\n",
       "  text-align: center;\n",
       "}\n",
       "\n",
       ".xr-section-summary-in:disabled + label:before {\n",
       "  color: var(--xr-disabled-color);\n",
       "}\n",
       "\n",
       ".xr-section-summary-in:checked + label:before {\n",
       "  content: '▼';\n",
       "}\n",
       "\n",
       ".xr-section-summary-in:checked + label > span {\n",
       "  display: none;\n",
       "}\n",
       "\n",
       ".xr-section-summary,\n",
       ".xr-section-inline-details {\n",
       "  padding-top: 4px;\n",
       "  padding-bottom: 4px;\n",
       "}\n",
       "\n",
       ".xr-section-inline-details {\n",
       "  grid-column: 2 / -1;\n",
       "}\n",
       "\n",
       ".xr-section-details {\n",
       "  display: none;\n",
       "  grid-column: 1 / -1;\n",
       "  margin-bottom: 5px;\n",
       "}\n",
       "\n",
       ".xr-section-summary-in:checked ~ .xr-section-details {\n",
       "  display: contents;\n",
       "}\n",
       "\n",
       ".xr-array-wrap {\n",
       "  grid-column: 1 / -1;\n",
       "  display: grid;\n",
       "  grid-template-columns: 20px auto;\n",
       "}\n",
       "\n",
       ".xr-array-wrap > label {\n",
       "  grid-column: 1;\n",
       "  vertical-align: top;\n",
       "}\n",
       "\n",
       ".xr-preview {\n",
       "  color: var(--xr-font-color3);\n",
       "}\n",
       "\n",
       ".xr-array-preview,\n",
       ".xr-array-data {\n",
       "  padding: 0 5px !important;\n",
       "  grid-column: 2;\n",
       "}\n",
       "\n",
       ".xr-array-data,\n",
       ".xr-array-in:checked ~ .xr-array-preview {\n",
       "  display: none;\n",
       "}\n",
       "\n",
       ".xr-array-in:checked ~ .xr-array-data,\n",
       ".xr-array-preview {\n",
       "  display: inline-block;\n",
       "}\n",
       "\n",
       ".xr-dim-list {\n",
       "  display: inline-block !important;\n",
       "  list-style: none;\n",
       "  padding: 0 !important;\n",
       "  margin: 0;\n",
       "}\n",
       "\n",
       ".xr-dim-list li {\n",
       "  display: inline-block;\n",
       "  padding: 0;\n",
       "  margin: 0;\n",
       "}\n",
       "\n",
       ".xr-dim-list:before {\n",
       "  content: '(';\n",
       "}\n",
       "\n",
       ".xr-dim-list:after {\n",
       "  content: ')';\n",
       "}\n",
       "\n",
       ".xr-dim-list li:not(:last-child):after {\n",
       "  content: ',';\n",
       "  padding-right: 5px;\n",
       "}\n",
       "\n",
       ".xr-has-index {\n",
       "  font-weight: bold;\n",
       "}\n",
       "\n",
       ".xr-var-list,\n",
       ".xr-var-item {\n",
       "  display: contents;\n",
       "}\n",
       "\n",
       ".xr-var-item > div,\n",
       ".xr-var-item label,\n",
       ".xr-var-item > .xr-var-name span {\n",
       "  background-color: var(--xr-background-color-row-even);\n",
       "  margin-bottom: 0;\n",
       "}\n",
       "\n",
       ".xr-var-item > .xr-var-name:hover span {\n",
       "  padding-right: 5px;\n",
       "}\n",
       "\n",
       ".xr-var-list > li:nth-child(odd) > div,\n",
       ".xr-var-list > li:nth-child(odd) > label,\n",
       ".xr-var-list > li:nth-child(odd) > .xr-var-name span {\n",
       "  background-color: var(--xr-background-color-row-odd);\n",
       "}\n",
       "\n",
       ".xr-var-name {\n",
       "  grid-column: 1;\n",
       "}\n",
       "\n",
       ".xr-var-dims {\n",
       "  grid-column: 2;\n",
       "}\n",
       "\n",
       ".xr-var-dtype {\n",
       "  grid-column: 3;\n",
       "  text-align: right;\n",
       "  color: var(--xr-font-color2);\n",
       "}\n",
       "\n",
       ".xr-var-preview {\n",
       "  grid-column: 4;\n",
       "}\n",
       "\n",
       ".xr-index-preview {\n",
       "  grid-column: 2 / 5;\n",
       "  color: var(--xr-font-color2);\n",
       "}\n",
       "\n",
       ".xr-var-name,\n",
       ".xr-var-dims,\n",
       ".xr-var-dtype,\n",
       ".xr-preview,\n",
       ".xr-attrs dt {\n",
       "  white-space: nowrap;\n",
       "  overflow: hidden;\n",
       "  text-overflow: ellipsis;\n",
       "  padding-right: 10px;\n",
       "}\n",
       "\n",
       ".xr-var-name:hover,\n",
       ".xr-var-dims:hover,\n",
       ".xr-var-dtype:hover,\n",
       ".xr-attrs dt:hover {\n",
       "  overflow: visible;\n",
       "  width: auto;\n",
       "  z-index: 1;\n",
       "}\n",
       "\n",
       ".xr-var-attrs,\n",
       ".xr-var-data,\n",
       ".xr-index-data {\n",
       "  display: none;\n",
       "  background-color: var(--xr-background-color) !important;\n",
       "  padding-bottom: 5px !important;\n",
       "}\n",
       "\n",
       ".xr-var-attrs-in:checked ~ .xr-var-attrs,\n",
       ".xr-var-data-in:checked ~ .xr-var-data,\n",
       ".xr-index-data-in:checked ~ .xr-index-data {\n",
       "  display: block;\n",
       "}\n",
       "\n",
       ".xr-var-data > table {\n",
       "  float: right;\n",
       "}\n",
       "\n",
       ".xr-var-name span,\n",
       ".xr-var-data,\n",
       ".xr-index-name div,\n",
       ".xr-index-data,\n",
       ".xr-attrs {\n",
       "  padding-left: 25px !important;\n",
       "}\n",
       "\n",
       ".xr-attrs,\n",
       ".xr-var-attrs,\n",
       ".xr-var-data,\n",
       ".xr-index-data {\n",
       "  grid-column: 1 / -1;\n",
       "}\n",
       "\n",
       "dl.xr-attrs {\n",
       "  padding: 0;\n",
       "  margin: 0;\n",
       "  display: grid;\n",
       "  grid-template-columns: 125px auto;\n",
       "}\n",
       "\n",
       ".xr-attrs dt,\n",
       ".xr-attrs dd {\n",
       "  padding: 0;\n",
       "  margin: 0;\n",
       "  float: left;\n",
       "  padding-right: 10px;\n",
       "  width: auto;\n",
       "}\n",
       "\n",
       ".xr-attrs dt {\n",
       "  font-weight: normal;\n",
       "  grid-column: 1;\n",
       "}\n",
       "\n",
       ".xr-attrs dt:hover span {\n",
       "  display: inline-block;\n",
       "  background: var(--xr-background-color);\n",
       "  padding-right: 10px;\n",
       "}\n",
       "\n",
       ".xr-attrs dd {\n",
       "  grid-column: 2;\n",
       "  white-space: pre-wrap;\n",
       "  word-break: break-all;\n",
       "}\n",
       "\n",
       ".xr-icon-database,\n",
       ".xr-icon-file-text2,\n",
       ".xr-no-icon {\n",
       "  display: inline-block;\n",
       "  vertical-align: middle;\n",
       "  width: 1em;\n",
       "  height: 1.5em !important;\n",
       "  stroke-width: 0;\n",
       "  stroke: currentColor;\n",
       "  fill: currentColor;\n",
       "}\n",
       "</style><pre class='xr-text-repr-fallback'>&lt;xarray.DataArray &#x27;t2m&#x27; (valid_time: 40, latitude: 401, longitude: 101)&gt;\n",
       "dask.array&lt;copy, shape=(40, 401, 101), dtype=float32, chunksize=(40, 401, 101), chunktype=numpy.ndarray&gt;\n",
       "Coordinates:\n",
       "    time               datetime64[ns] ...\n",
       "    heightAboveGround  float64 ...\n",
       "  * latitude           (latitude) float32 -15.0 -15.1 -15.2 ... -54.9 -55.0\n",
       "  * longitude          (longitude) float32 -75.0 -74.9 -74.8 ... -65.1 -65.0\n",
       "  * valid_time         (valid_time) datetime64[ns] 2006-10-10 ... 2006-10-14T...\n",
       "Attributes: (12/29)\n",
       "    GRIB_paramId:                             167\n",
       "    GRIB_dataType:                            fc\n",
       "    GRIB_numberOfPoints:                      259920\n",
       "    GRIB_typeOfLevel:                         heightAboveGround\n",
       "    GRIB_stepUnits:                           1\n",
       "    GRIB_stepType:                            instant\n",
       "    ...                                       ...\n",
       "    GRIB_name:                                2 metre temperature\n",
       "    GRIB_shortName:                           2t\n",
       "    GRIB_units:                               K\n",
       "    long_name:                                2 metre temperature\n",
       "    units:                                    K\n",
       "    standard_name:                            air_temperature</pre><div class='xr-wrap' style='display:none'><div class='xr-header'><div class='xr-obj-type'>xarray.DataArray</div><div class='xr-array-name'>'t2m'</div><ul class='xr-dim-list'><li><span class='xr-has-index'>valid_time</span>: 40</li><li><span class='xr-has-index'>latitude</span>: 401</li><li><span class='xr-has-index'>longitude</span>: 101</li></ul></div><ul class='xr-sections'><li class='xr-section-item'><div class='xr-array-wrap'><input id='section-366ca238-50a7-4f71-a07e-88e2a539ad53' class='xr-array-in' type='checkbox' checked><label for='section-366ca238-50a7-4f71-a07e-88e2a539ad53' title='Show/hide data repr'><svg class='icon xr-icon-database'><use xlink:href='#icon-database'></use></svg></label><div class='xr-array-preview xr-preview'><span>dask.array&lt;chunksize=(40, 401, 101), meta=np.ndarray&gt;</span></div><div class='xr-array-data'><table>\n",
       "    <tr>\n",
       "        <td>\n",
       "            <table>\n",
       "                <thead>\n",
       "                    <tr>\n",
       "                        <td> </td>\n",
       "                        <th> Array </th>\n",
       "                        <th> Chunk </th>\n",
       "                    </tr>\n",
       "                </thead>\n",
       "                <tbody>\n",
       "                    \n",
       "                    <tr>\n",
       "                        <th> Bytes </th>\n",
       "                        <td> 6.18 MiB </td>\n",
       "                        <td> 6.18 MiB </td>\n",
       "                    </tr>\n",
       "                    \n",
       "                    <tr>\n",
       "                        <th> Shape </th>\n",
       "                        <td> (40, 401, 101) </td>\n",
       "                        <td> (40, 401, 101) </td>\n",
       "                    </tr>\n",
       "                    <tr>\n",
       "                        <th> Count </th>\n",
       "                        <td> 27 Tasks </td>\n",
       "                        <td> 1 Chunks </td>\n",
       "                    </tr>\n",
       "                    <tr>\n",
       "                    <th> Type </th>\n",
       "                    <td> float32 </td>\n",
       "                    <td> numpy.ndarray </td>\n",
       "                    </tr>\n",
       "                </tbody>\n",
       "            </table>\n",
       "        </td>\n",
       "        <td>\n",
       "        <svg width=\"125\" height=\"192\" style=\"stroke:rgb(0,0,0);stroke-width:1\" >\n",
       "\n",
       "  <!-- Horizontal lines -->\n",
       "  <line x1=\"10\" y1=\"0\" x2=\"32\" y2=\"22\" style=\"stroke-width:2\" />\n",
       "  <line x1=\"10\" y1=\"120\" x2=\"32\" y2=\"142\" style=\"stroke-width:2\" />\n",
       "\n",
       "  <!-- Vertical lines -->\n",
       "  <line x1=\"10\" y1=\"0\" x2=\"10\" y2=\"120\" style=\"stroke-width:2\" />\n",
       "  <line x1=\"32\" y1=\"22\" x2=\"32\" y2=\"142\" style=\"stroke-width:2\" />\n",
       "\n",
       "  <!-- Colored Rectangle -->\n",
       "  <polygon points=\"10.0,0.0 32.69589439164993,22.695894391649926 32.69589439164993,142.69589439164992 10.0,120.0\" style=\"fill:#ECB172A0;stroke-width:0\"/>\n",
       "\n",
       "  <!-- Horizontal lines -->\n",
       "  <line x1=\"10\" y1=\"0\" x2=\"52\" y2=\"0\" style=\"stroke-width:2\" />\n",
       "  <line x1=\"32\" y1=\"22\" x2=\"75\" y2=\"22\" style=\"stroke-width:2\" />\n",
       "\n",
       "  <!-- Vertical lines -->\n",
       "  <line x1=\"10\" y1=\"0\" x2=\"32\" y2=\"22\" style=\"stroke-width:2\" />\n",
       "  <line x1=\"52\" y1=\"0\" x2=\"75\" y2=\"22\" style=\"stroke-width:2\" />\n",
       "\n",
       "  <!-- Colored Rectangle -->\n",
       "  <polygon points=\"10.0,0.0 52.926614431754686,0.0 75.62250882340462,22.695894391649926 32.69589439164993,22.695894391649926\" style=\"fill:#ECB172A0;stroke-width:0\"/>\n",
       "\n",
       "  <!-- Horizontal lines -->\n",
       "  <line x1=\"32\" y1=\"22\" x2=\"75\" y2=\"22\" style=\"stroke-width:2\" />\n",
       "  <line x1=\"32\" y1=\"142\" x2=\"75\" y2=\"142\" style=\"stroke-width:2\" />\n",
       "\n",
       "  <!-- Vertical lines -->\n",
       "  <line x1=\"32\" y1=\"22\" x2=\"32\" y2=\"142\" style=\"stroke-width:2\" />\n",
       "  <line x1=\"75\" y1=\"22\" x2=\"75\" y2=\"142\" style=\"stroke-width:2\" />\n",
       "\n",
       "  <!-- Colored Rectangle -->\n",
       "  <polygon points=\"32.69589439164993,22.695894391649926 75.62250882340462,22.695894391649926 75.62250882340462,142.69589439164992 32.69589439164993,142.69589439164992\" style=\"fill:#ECB172A0;stroke-width:0\"/>\n",
       "\n",
       "  <!-- Text -->\n",
       "  <text x=\"54.159202\" y=\"162.695894\" font-size=\"1.0rem\" font-weight=\"100\" text-anchor=\"middle\" >101</text>\n",
       "  <text x=\"95.622509\" y=\"82.695894\" font-size=\"1.0rem\" font-weight=\"100\" text-anchor=\"middle\" transform=\"rotate(-90,95.622509,82.695894)\">401</text>\n",
       "  <text x=\"11.347947\" y=\"151.347947\" font-size=\"1.0rem\" font-weight=\"100\" text-anchor=\"middle\" transform=\"rotate(45,11.347947,151.347947)\">40</text>\n",
       "</svg>\n",
       "        </td>\n",
       "    </tr>\n",
       "</table></div></div></li><li class='xr-section-item'><input id='section-831157f5-0319-4171-b539-0ace8165f9ca' class='xr-section-summary-in' type='checkbox'  checked><label for='section-831157f5-0319-4171-b539-0ace8165f9ca' class='xr-section-summary' >Coordinates: <span>(5)</span></label><div class='xr-section-inline-details'></div><div class='xr-section-details'><ul class='xr-var-list'><li class='xr-var-item'><div class='xr-var-name'><span>time</span></div><div class='xr-var-dims'>()</div><div class='xr-var-dtype'>datetime64[ns]</div><div class='xr-var-preview xr-preview'>...</div><input id='attrs-4384bf89-5dc7-47e2-a1d7-d9cefdabefe2' class='xr-var-attrs-in' type='checkbox' ><label for='attrs-4384bf89-5dc7-47e2-a1d7-d9cefdabefe2' title='Show/Hide attributes'><svg class='icon xr-icon-file-text2'><use xlink:href='#icon-file-text2'></use></svg></label><input id='data-d336f4b7-a85a-46d9-9809-954de53573ea' class='xr-var-data-in' type='checkbox'><label for='data-d336f4b7-a85a-46d9-9809-954de53573ea' title='Show/Hide data repr'><svg class='icon xr-icon-database'><use xlink:href='#icon-database'></use></svg></label><div class='xr-var-attrs'><dl class='xr-attrs'><dt><span>long_name :</span></dt><dd>initial time of forecast</dd><dt><span>standard_name :</span></dt><dd>forecast_reference_time</dd></dl></div><div class='xr-var-data'><pre>[1 values with dtype=datetime64[ns]]</pre></div></li><li class='xr-var-item'><div class='xr-var-name'><span>heightAboveGround</span></div><div class='xr-var-dims'>()</div><div class='xr-var-dtype'>float64</div><div class='xr-var-preview xr-preview'>...</div><input id='attrs-19fe79c6-d561-4f9e-a530-ca7416688bba' class='xr-var-attrs-in' type='checkbox' ><label for='attrs-19fe79c6-d561-4f9e-a530-ca7416688bba' title='Show/Hide attributes'><svg class='icon xr-icon-file-text2'><use xlink:href='#icon-file-text2'></use></svg></label><input id='data-6483438c-aafe-4839-b046-7e8070297490' class='xr-var-data-in' type='checkbox'><label for='data-6483438c-aafe-4839-b046-7e8070297490' title='Show/Hide data repr'><svg class='icon xr-icon-database'><use xlink:href='#icon-database'></use></svg></label><div class='xr-var-attrs'><dl class='xr-attrs'><dt><span>long_name :</span></dt><dd>height above the surface</dd><dt><span>units :</span></dt><dd>m</dd><dt><span>positive :</span></dt><dd>up</dd><dt><span>standard_name :</span></dt><dd>height</dd></dl></div><div class='xr-var-data'><pre>[1 values with dtype=float64]</pre></div></li><li class='xr-var-item'><div class='xr-var-name'><span class='xr-has-index'>latitude</span></div><div class='xr-var-dims'>(latitude)</div><div class='xr-var-dtype'>float32</div><div class='xr-var-preview xr-preview'>-15.0 -15.1 -15.2 ... -54.9 -55.0</div><input id='attrs-4c392426-f1b6-4708-87f5-24de21ba8796' class='xr-var-attrs-in' type='checkbox' ><label for='attrs-4c392426-f1b6-4708-87f5-24de21ba8796' title='Show/Hide attributes'><svg class='icon xr-icon-file-text2'><use xlink:href='#icon-file-text2'></use></svg></label><input id='data-3d4a87fd-65c3-497e-ab64-ae729ea5d110' class='xr-var-data-in' type='checkbox'><label for='data-3d4a87fd-65c3-497e-ab64-ae729ea5d110' title='Show/Hide data repr'><svg class='icon xr-icon-database'><use xlink:href='#icon-database'></use></svg></label><div class='xr-var-attrs'><dl class='xr-attrs'><dt><span>units :</span></dt><dd>degrees_north</dd><dt><span>long_name :</span></dt><dd>latitude</dd></dl></div><div class='xr-var-data'><pre>array([-15. , -15.1, -15.2, ..., -54.8, -54.9, -55. ], dtype=float32)</pre></div></li><li class='xr-var-item'><div class='xr-var-name'><span class='xr-has-index'>longitude</span></div><div class='xr-var-dims'>(longitude)</div><div class='xr-var-dtype'>float32</div><div class='xr-var-preview xr-preview'>-75.0 -74.9 -74.8 ... -65.1 -65.0</div><input id='attrs-27219877-bea3-4521-a865-14795d16f28b' class='xr-var-attrs-in' type='checkbox' ><label for='attrs-27219877-bea3-4521-a865-14795d16f28b' title='Show/Hide attributes'><svg class='icon xr-icon-file-text2'><use xlink:href='#icon-file-text2'></use></svg></label><input id='data-31f25438-ecd3-4944-8c6b-45be665276a1' class='xr-var-data-in' type='checkbox'><label for='data-31f25438-ecd3-4944-8c6b-45be665276a1' title='Show/Hide data repr'><svg class='icon xr-icon-database'><use xlink:href='#icon-database'></use></svg></label><div class='xr-var-attrs'><dl class='xr-attrs'><dt><span>units :</span></dt><dd>degrees_east</dd><dt><span>long_name :</span></dt><dd>longitude</dd></dl></div><div class='xr-var-data'><pre>array([-75. , -74.9, -74.8, -74.7, -74.6, -74.5, -74.4, -74.3, -74.2, -74.1,\n",
       "       -74. , -73.9, -73.8, -73.7, -73.6, -73.5, -73.4, -73.3, -73.2, -73.1,\n",
       "       -73. , -72.9, -72.8, -72.7, -72.6, -72.5, -72.4, -72.3, -72.2, -72.1,\n",
       "       -72. , -71.9, -71.8, -71.7, -71.6, -71.5, -71.4, -71.3, -71.2, -71.1,\n",
       "       -71. , -70.9, -70.8, -70.7, -70.6, -70.5, -70.4, -70.3, -70.2, -70.1,\n",
       "       -70. , -69.9, -69.8, -69.7, -69.6, -69.5, -69.4, -69.3, -69.2, -69.1,\n",
       "       -69. , -68.9, -68.8, -68.7, -68.6, -68.5, -68.4, -68.3, -68.2, -68.1,\n",
       "       -68. , -67.9, -67.8, -67.7, -67.6, -67.5, -67.4, -67.3, -67.2, -67.1,\n",
       "       -67. , -66.9, -66.8, -66.7, -66.6, -66.5, -66.4, -66.3, -66.2, -66.1,\n",
       "       -66. , -65.9, -65.8, -65.7, -65.6, -65.5, -65.4, -65.3, -65.2, -65.1,\n",
       "       -65. ], dtype=float32)</pre></div></li><li class='xr-var-item'><div class='xr-var-name'><span class='xr-has-index'>valid_time</span></div><div class='xr-var-dims'>(valid_time)</div><div class='xr-var-dtype'>datetime64[ns]</div><div class='xr-var-preview xr-preview'>2006-10-10 ... 2006-10-14T21:00:00</div><input id='attrs-13e92a0d-f4aa-425d-b8b1-97dcf58174b0' class='xr-var-attrs-in' type='checkbox' ><label for='attrs-13e92a0d-f4aa-425d-b8b1-97dcf58174b0' title='Show/Hide attributes'><svg class='icon xr-icon-file-text2'><use xlink:href='#icon-file-text2'></use></svg></label><input id='data-8a72ab57-9080-4874-88d8-df740a718016' class='xr-var-data-in' type='checkbox'><label for='data-8a72ab57-9080-4874-88d8-df740a718016' title='Show/Hide data repr'><svg class='icon xr-icon-database'><use xlink:href='#icon-database'></use></svg></label><div class='xr-var-attrs'><dl class='xr-attrs'><dt><span>long_name :</span></dt><dd>time</dd></dl></div><div class='xr-var-data'><pre>array([&#x27;2006-10-10T00:00:00.000000000&#x27;, &#x27;2006-10-10T03:00:00.000000000&#x27;,\n",
       "       &#x27;2006-10-10T06:00:00.000000000&#x27;, &#x27;2006-10-10T09:00:00.000000000&#x27;,\n",
       "       &#x27;2006-10-10T12:00:00.000000000&#x27;, &#x27;2006-10-10T15:00:00.000000000&#x27;,\n",
       "       &#x27;2006-10-10T18:00:00.000000000&#x27;, &#x27;2006-10-10T21:00:00.000000000&#x27;,\n",
       "       &#x27;2006-10-11T00:00:00.000000000&#x27;, &#x27;2006-10-11T03:00:00.000000000&#x27;,\n",
       "       &#x27;2006-10-11T06:00:00.000000000&#x27;, &#x27;2006-10-11T09:00:00.000000000&#x27;,\n",
       "       &#x27;2006-10-11T12:00:00.000000000&#x27;, &#x27;2006-10-11T15:00:00.000000000&#x27;,\n",
       "       &#x27;2006-10-11T18:00:00.000000000&#x27;, &#x27;2006-10-11T21:00:00.000000000&#x27;,\n",
       "       &#x27;2006-10-12T00:00:00.000000000&#x27;, &#x27;2006-10-12T03:00:00.000000000&#x27;,\n",
       "       &#x27;2006-10-12T06:00:00.000000000&#x27;, &#x27;2006-10-12T09:00:00.000000000&#x27;,\n",
       "       &#x27;2006-10-12T12:00:00.000000000&#x27;, &#x27;2006-10-12T15:00:00.000000000&#x27;,\n",
       "       &#x27;2006-10-12T18:00:00.000000000&#x27;, &#x27;2006-10-12T21:00:00.000000000&#x27;,\n",
       "       &#x27;2006-10-13T00:00:00.000000000&#x27;, &#x27;2006-10-13T03:00:00.000000000&#x27;,\n",
       "       &#x27;2006-10-13T06:00:00.000000000&#x27;, &#x27;2006-10-13T09:00:00.000000000&#x27;,\n",
       "       &#x27;2006-10-13T12:00:00.000000000&#x27;, &#x27;2006-10-13T15:00:00.000000000&#x27;,\n",
       "       &#x27;2006-10-13T18:00:00.000000000&#x27;, &#x27;2006-10-13T21:00:00.000000000&#x27;,\n",
       "       &#x27;2006-10-14T00:00:00.000000000&#x27;, &#x27;2006-10-14T03:00:00.000000000&#x27;,\n",
       "       &#x27;2006-10-14T06:00:00.000000000&#x27;, &#x27;2006-10-14T09:00:00.000000000&#x27;,\n",
       "       &#x27;2006-10-14T12:00:00.000000000&#x27;, &#x27;2006-10-14T15:00:00.000000000&#x27;,\n",
       "       &#x27;2006-10-14T18:00:00.000000000&#x27;, &#x27;2006-10-14T21:00:00.000000000&#x27;],\n",
       "      dtype=&#x27;datetime64[ns]&#x27;)</pre></div></li></ul></div></li><li class='xr-section-item'><input id='section-762fc5a7-055c-4c2e-bf51-bb78e16bb386' class='xr-section-summary-in' type='checkbox'  ><label for='section-762fc5a7-055c-4c2e-bf51-bb78e16bb386' class='xr-section-summary' >Indexes: <span>(3)</span></label><div class='xr-section-inline-details'></div><div class='xr-section-details'><ul class='xr-var-list'><li class='xr-var-item'><div class='xr-index-name'><div>latitude</div></div><div class='xr-index-preview'>PandasIndex</div><div></div><input id='index-5cdc857e-98aa-4631-9c49-7ad56f32b378' class='xr-index-data-in' type='checkbox'/><label for='index-5cdc857e-98aa-4631-9c49-7ad56f32b378' title='Show/Hide index repr'><svg class='icon xr-icon-database'><use xlink:href='#icon-database'></use></svg></label><div class='xr-index-data'><pre>PandasIndex(Float64Index([              -15.0, -15.100000381469727, -15.199999809265137,\n",
       "              -15.300000190734863, -15.399999618530273,               -15.5,\n",
       "              -15.600000381469727, -15.699999809265137, -15.800000190734863,\n",
       "              -15.899999618530273,\n",
       "              ...\n",
       "              -54.099998474121094,  -54.20000076293945,  -54.29999923706055,\n",
       "              -54.400001525878906,               -54.5, -54.599998474121094,\n",
       "               -54.70000076293945,  -54.79999923706055, -54.900001525878906,\n",
       "                            -55.0],\n",
       "             dtype=&#x27;float64&#x27;, name=&#x27;latitude&#x27;, length=401))</pre></div></li><li class='xr-var-item'><div class='xr-index-name'><div>longitude</div></div><div class='xr-index-preview'>PandasIndex</div><div></div><input id='index-99d8b64d-87bb-4d76-920e-184ce02987b8' class='xr-index-data-in' type='checkbox'/><label for='index-99d8b64d-87bb-4d76-920e-184ce02987b8' title='Show/Hide index repr'><svg class='icon xr-icon-database'><use xlink:href='#icon-database'></use></svg></label><div class='xr-index-data'><pre>PandasIndex(Float64Index([             -75.0,  -74.9000015258789, -74.80000305175781,\n",
       "              -74.69999694824219,  -74.5999984741211,              -74.5,\n",
       "               -74.4000015258789, -74.30000305175781, -74.19999694824219,\n",
       "               -74.0999984741211,\n",
       "              ...\n",
       "               -65.9000015258789, -65.80000305175781, -65.69999694824219,\n",
       "               -65.5999984741211,              -65.5,  -65.4000015258789,\n",
       "              -65.30000305175781, -65.19999694824219,  -65.0999984741211,\n",
       "                           -65.0],\n",
       "             dtype=&#x27;float64&#x27;, name=&#x27;longitude&#x27;, length=101))</pre></div></li><li class='xr-var-item'><div class='xr-index-name'><div>valid_time</div></div><div class='xr-index-preview'>PandasIndex</div><div></div><input id='index-6e3916b0-57c3-4f5d-82cc-b20c143e82fb' class='xr-index-data-in' type='checkbox'/><label for='index-6e3916b0-57c3-4f5d-82cc-b20c143e82fb' title='Show/Hide index repr'><svg class='icon xr-icon-database'><use xlink:href='#icon-database'></use></svg></label><div class='xr-index-data'><pre>PandasIndex(DatetimeIndex([&#x27;2006-10-10 00:00:00&#x27;, &#x27;2006-10-10 03:00:00&#x27;,\n",
       "               &#x27;2006-10-10 06:00:00&#x27;, &#x27;2006-10-10 09:00:00&#x27;,\n",
       "               &#x27;2006-10-10 12:00:00&#x27;, &#x27;2006-10-10 15:00:00&#x27;,\n",
       "               &#x27;2006-10-10 18:00:00&#x27;, &#x27;2006-10-10 21:00:00&#x27;,\n",
       "               &#x27;2006-10-11 00:00:00&#x27;, &#x27;2006-10-11 03:00:00&#x27;,\n",
       "               &#x27;2006-10-11 06:00:00&#x27;, &#x27;2006-10-11 09:00:00&#x27;,\n",
       "               &#x27;2006-10-11 12:00:00&#x27;, &#x27;2006-10-11 15:00:00&#x27;,\n",
       "               &#x27;2006-10-11 18:00:00&#x27;, &#x27;2006-10-11 21:00:00&#x27;,\n",
       "               &#x27;2006-10-12 00:00:00&#x27;, &#x27;2006-10-12 03:00:00&#x27;,\n",
       "               &#x27;2006-10-12 06:00:00&#x27;, &#x27;2006-10-12 09:00:00&#x27;,\n",
       "               &#x27;2006-10-12 12:00:00&#x27;, &#x27;2006-10-12 15:00:00&#x27;,\n",
       "               &#x27;2006-10-12 18:00:00&#x27;, &#x27;2006-10-12 21:00:00&#x27;,\n",
       "               &#x27;2006-10-13 00:00:00&#x27;, &#x27;2006-10-13 03:00:00&#x27;,\n",
       "               &#x27;2006-10-13 06:00:00&#x27;, &#x27;2006-10-13 09:00:00&#x27;,\n",
       "               &#x27;2006-10-13 12:00:00&#x27;, &#x27;2006-10-13 15:00:00&#x27;,\n",
       "               &#x27;2006-10-13 18:00:00&#x27;, &#x27;2006-10-13 21:00:00&#x27;,\n",
       "               &#x27;2006-10-14 00:00:00&#x27;, &#x27;2006-10-14 03:00:00&#x27;,\n",
       "               &#x27;2006-10-14 06:00:00&#x27;, &#x27;2006-10-14 09:00:00&#x27;,\n",
       "               &#x27;2006-10-14 12:00:00&#x27;, &#x27;2006-10-14 15:00:00&#x27;,\n",
       "               &#x27;2006-10-14 18:00:00&#x27;, &#x27;2006-10-14 21:00:00&#x27;],\n",
       "              dtype=&#x27;datetime64[ns]&#x27;, name=&#x27;valid_time&#x27;, freq=None))</pre></div></li></ul></div></li><li class='xr-section-item'><input id='section-4ed86198-697f-403f-ba83-1c164ce411d7' class='xr-section-summary-in' type='checkbox'  ><label for='section-4ed86198-697f-403f-ba83-1c164ce411d7' class='xr-section-summary' >Attributes: <span>(29)</span></label><div class='xr-section-inline-details'></div><div class='xr-section-details'><dl class='xr-attrs'><dt><span>GRIB_paramId :</span></dt><dd>167</dd><dt><span>GRIB_dataType :</span></dt><dd>fc</dd><dt><span>GRIB_numberOfPoints :</span></dt><dd>259920</dd><dt><span>GRIB_typeOfLevel :</span></dt><dd>heightAboveGround</dd><dt><span>GRIB_stepUnits :</span></dt><dd>1</dd><dt><span>GRIB_stepType :</span></dt><dd>instant</dd><dt><span>GRIB_gridType :</span></dt><dd>regular_ll</dd><dt><span>GRIB_NV :</span></dt><dd>0</dd><dt><span>GRIB_Nx :</span></dt><dd>720</dd><dt><span>GRIB_Ny :</span></dt><dd>361</dd><dt><span>GRIB_cfName :</span></dt><dd>air_temperature</dd><dt><span>GRIB_cfVarName :</span></dt><dd>t2m</dd><dt><span>GRIB_gridDefinitionDescription :</span></dt><dd>Latitude/longitude. Also called equidistant cylindrical, or Plate Carree</dd><dt><span>GRIB_iDirectionIncrementInDegrees :</span></dt><dd>0.5</dd><dt><span>GRIB_iScansNegatively :</span></dt><dd>0</dd><dt><span>GRIB_jDirectionIncrementInDegrees :</span></dt><dd>0.5</dd><dt><span>GRIB_jPointsAreConsecutive :</span></dt><dd>0</dd><dt><span>GRIB_jScansPositively :</span></dt><dd>0</dd><dt><span>GRIB_latitudeOfFirstGridPointInDegrees :</span></dt><dd>90.0</dd><dt><span>GRIB_latitudeOfLastGridPointInDegrees :</span></dt><dd>-90.0</dd><dt><span>GRIB_longitudeOfFirstGridPointInDegrees :</span></dt><dd>0.0</dd><dt><span>GRIB_longitudeOfLastGridPointInDegrees :</span></dt><dd>359.5</dd><dt><span>GRIB_missingValue :</span></dt><dd>3.4028234663852886e+38</dd><dt><span>GRIB_name :</span></dt><dd>2 metre temperature</dd><dt><span>GRIB_shortName :</span></dt><dd>2t</dd><dt><span>GRIB_units :</span></dt><dd>K</dd><dt><span>long_name :</span></dt><dd>2 metre temperature</dd><dt><span>units :</span></dt><dd>K</dd><dt><span>standard_name :</span></dt><dd>air_temperature</dd></dl></div></li></ul></div></div>"
      ],
      "text/plain": [
       "<xarray.DataArray 't2m' (valid_time: 40, latitude: 401, longitude: 101)>\n",
       "dask.array<copy, shape=(40, 401, 101), dtype=float32, chunksize=(40, 401, 101), chunktype=numpy.ndarray>\n",
       "Coordinates:\n",
       "    time               datetime64[ns] ...\n",
       "    heightAboveGround  float64 ...\n",
       "  * latitude           (latitude) float32 -15.0 -15.1 -15.2 ... -54.9 -55.0\n",
       "  * longitude          (longitude) float32 -75.0 -74.9 -74.8 ... -65.1 -65.0\n",
       "  * valid_time         (valid_time) datetime64[ns] 2006-10-10 ... 2006-10-14T...\n",
       "Attributes: (12/29)\n",
       "    GRIB_paramId:                             167\n",
       "    GRIB_dataType:                            fc\n",
       "    GRIB_numberOfPoints:                      259920\n",
       "    GRIB_typeOfLevel:                         heightAboveGround\n",
       "    GRIB_stepUnits:                           1\n",
       "    GRIB_stepType:                            instant\n",
       "    ...                                       ...\n",
       "    GRIB_name:                                2 metre temperature\n",
       "    GRIB_shortName:                           2t\n",
       "    GRIB_units:                               K\n",
       "    long_name:                                2 metre temperature\n",
       "    units:                                    K\n",
       "    standard_name:                            air_temperature"
      ]
     },
     "execution_count": 5,
     "metadata": {},
     "output_type": "execute_result"
    }
   ],
   "source": [
    "#target\n",
    "era5 = nc.NCFile('era5-land_*.nc', path='./Data/observed/2006/')\n",
    "era5.setVar('t2m')\n",
    "era5.loadVar()\n",
    "\n",
    "#input\n",
    "g05 = nc.NCFile('GFS0.5_t2m_heightAboveGround_instant_200610*.nc', path='./Data/forecasted/2006/2006101000/')\n",
    "g05.setVar('t2m')\n",
    "g05.loadVar()\n",
    "\n",
    "g05.upscaleVar(era5.values)"
   ]
  },
  {
   "attachments": {},
   "cell_type": "markdown",
   "metadata": {},
   "source": [
    "#### 2-. Preparación de los parches\n",
    "\n",
    "Comentario: Ejecutar la siguiente celda en caso de querer crear los parches nuevamente."
   ]
  },
  {
   "cell_type": "code",
   "execution_count": 4,
   "metadata": {},
   "outputs": [
    {
     "name": "stderr",
     "output_type": "stream",
     "text": [
      "100%|██████████| 38/38 [03:03<00:00,  4.84s/it]\n"
     ]
    },
    {
     "name": "stdout",
     "output_type": "stream",
     "text": [
      "Stack patches shape:  (1368, 3, 32, 32, 1)\n"
     ]
    },
    {
     "name": "stderr",
     "output_type": "stream",
     "text": [
      "100%|██████████| 38/38 [00:09<00:00,  3.90it/s]\n"
     ]
    },
    {
     "name": "stdout",
     "output_type": "stream",
     "text": [
      "Stack patches shape:  (1368, 3, 32, 32, 1)\n"
     ]
    },
    {
     "name": "stderr",
     "output_type": "stream",
     "text": [
      "100%|██████████| 38/38 [00:04<00:00,  7.61it/s]\n"
     ]
    },
    {
     "name": "stdout",
     "output_type": "stream",
     "text": [
      "Stack patches shape:  (1368, 3, 32, 32, 1)\n"
     ]
    },
    {
     "name": "stderr",
     "output_type": "stream",
     "text": [
      "100%|██████████| 38/38 [00:04<00:00,  7.98it/s]\n"
     ]
    },
    {
     "name": "stdout",
     "output_type": "stream",
     "text": [
      "Stack patches shape:  (1368, 3, 32, 32, 1)\n"
     ]
    },
    {
     "name": "stderr",
     "output_type": "stream",
     "text": [
      "100%|██████████| 38/38 [00:07<00:00,  4.80it/s]\n"
     ]
    },
    {
     "name": "stdout",
     "output_type": "stream",
     "text": [
      "Stack patches shape:  (1368, 3, 32, 32, 1)\n"
     ]
    },
    {
     "name": "stderr",
     "output_type": "stream",
     "text": [
      "100%|██████████| 38/38 [00:08<00:00,  4.70it/s]\n"
     ]
    },
    {
     "name": "stdout",
     "output_type": "stream",
     "text": [
      "Stack patches shape:  (1368, 3, 32, 32, 1)\n"
     ]
    },
    {
     "name": "stderr",
     "output_type": "stream",
     "text": [
      "100%|██████████| 38/38 [09:15<00:00, 14.62s/it]"
     ]
    },
    {
     "name": "stdout",
     "output_type": "stream",
     "text": [
      "Stack patches shape:  (95000, 3, 4, 4, 1)\n"
     ]
    },
    {
     "name": "stderr",
     "output_type": "stream",
     "text": [
      "\n"
     ]
    }
   ],
   "source": [
    "inp = g05.extraccion_parches(Var=g05.getVar())\n",
    "target = era5.extraccion_parches(Var=era5.getVar())\n",
    "lat = era5.sampleLat()\n",
    "lon = era5.sampleLon()\n",
    "orog_np = era5.sampleBand1()\n",
    "time1,time2 = era5.sampleDayOfYear()"
   ]
  },
  {
   "attachments": {},
   "cell_type": "markdown",
   "metadata": {},
   "source": [
    "Cargamos los parches previamente creados:"
   ]
  },
  {
   "cell_type": "code",
   "execution_count": 7,
   "metadata": {},
   "outputs": [],
   "source": [
    "with open('C1_parches.npy', 'rb') as f:\n",
    "    inp_np = tf.convert_to_tensor(np.load(f))\n",
    "    target_np = tf.convert_to_tensor(np.load(f))\n",
    "    lat_np = tf.convert_to_tensor(np.load(f))\n",
    "    lon_np = tf.convert_to_tensor(np.load(f))\n",
    "    orog_np =tf.convert_to_tensor(np.load(f))\n",
    "    time1_np = tf.convert_to_tensor(np.load(f))\n",
    "    time2_np = tf.convert_to_tensor(np.load(f))"
   ]
  },
  {
   "cell_type": "code",
   "execution_count": null,
   "metadata": {},
   "outputs": [],
   "source": [
    "#comparar inputs cargados con los creados originalmente\n",
    "#comp=tf.math.reduce_all(tf.equal(inp,inp_np))\n",
    "#print(comp)"
   ]
  },
  {
   "attachments": {},
   "cell_type": "markdown",
   "metadata": {},
   "source": [
    "Dimensión de los tensores iniciales"
   ]
  },
  {
   "cell_type": "code",
   "execution_count": 8,
   "metadata": {},
   "outputs": [
    {
     "name": "stdout",
     "output_type": "stream",
     "text": [
      "target:  (1368, 3, 32, 32, 1)\n",
      "inp:  (1368, 3, 32, 32, 1)\n",
      "lat:  (1368, 3, 32, 32, 1)\n",
      "long:  (1368, 3, 32, 32, 1)\n",
      "orog:  (1368, 3, 32, 32, 1)\n",
      "time1:  (1368, 3, 32, 32, 1)\n",
      "time2:  (95000, 3, 4, 4, 1)\n"
     ]
    }
   ],
   "source": [
    "print(\"target: \",target_np.shape)\n",
    "print(\"inp: \",inp_np.shape)\n",
    "print(\"lat: \",lat_np.shape)\n",
    "print(\"long: \",lon_np.shape)\n",
    "print(\"orog: \",orog_np.shape)\n",
    "print(\"time1: \",time1_np.shape)\n",
    "print(\"time2: \",time2_np.shape)"
   ]
  },
  {
   "attachments": {},
   "cell_type": "markdown",
   "metadata": {},
   "source": [
    "#### 3-. Eliminación de parches nulos, normalización y división de la data:"
   ]
  },
  {
   "attachments": {},
   "cell_type": "markdown",
   "metadata": {},
   "source": [
    "Chequeo de la cantidad de datos Nan que contienen nuestras variables del input:"
   ]
  },
  {
   "cell_type": "code",
   "execution_count": 9,
   "metadata": {},
   "outputs": [
    {
     "name": "stdout",
     "output_type": "stream",
     "text": [
      "target- num valores nan: 452542\n",
      "inp- num valores nan: 0\n",
      "lat- num valores nan: 0\n",
      "lot- num valores nan: 0\n",
      "orog- num valores nan: 0\n",
      "time1- num valores nan: 0\n",
      "time2- num valores nan: 0\n"
     ]
    }
   ],
   "source": [
    "era5.cantidad_nan(inputs=[target_np,inp_np,lat_np,lon_np,orog_np,time1_np,time2_np])"
   ]
  },
  {
   "cell_type": "markdown",
   "metadata": {},
   "source": [
    "Índices de los parches que no son completamente Nan"
   ]
  },
  {
   "cell_type": "code",
   "execution_count": 10,
   "metadata": {},
   "outputs": [
    {
     "name": "stdout",
     "output_type": "stream",
     "text": [
      "Cantidad de parches nulos:  152\n",
      "Cantidad de parches no nulos:  1216\n",
      "1216\n"
     ]
    },
    {
     "data": {
      "text/plain": [
       "[0, 1, 2, 4, 5, 7, 8, 10, 11, 13]"
      ]
     },
     "execution_count": 10,
     "metadata": {},
     "output_type": "execute_result"
    }
   ],
   "source": [
    "idx=era5.parches_nan_target(target_np)\n",
    "print(len(idx))\n",
    "idx[:10]"
   ]
  },
  {
   "attachments": {},
   "cell_type": "markdown",
   "metadata": {},
   "source": [
    "- 3.1-. Eliminación de los parches que son completamente Nan"
   ]
  },
  {
   "cell_type": "code",
   "execution_count": 11,
   "metadata": {},
   "outputs": [],
   "source": [
    "target,inp,lat,long,orog,time1=era5.filtracion_nan(target_np,inp_np,lat_np,lon_np,orog_np,time1_np,idx)"
   ]
  },
  {
   "cell_type": "markdown",
   "metadata": {},
   "source": [
    "Dimensión de los parches post limpieza:"
   ]
  },
  {
   "cell_type": "code",
   "execution_count": 12,
   "metadata": {},
   "outputs": [
    {
     "name": "stdout",
     "output_type": "stream",
     "text": [
      "target:  (1216, 3, 32, 32, 1)\n",
      "inp:  (1216, 3, 32, 32, 1)\n",
      "lat:  (1216, 3, 32, 32, 1)\n",
      "long:  (1216, 3, 32, 32, 1)\n",
      "orog:  (1216, 3, 32, 32, 1)\n",
      "time1:  (1216, 3, 32, 32, 1)\n"
     ]
    }
   ],
   "source": [
    "print(\"target: \",target.shape)\n",
    "print(\"inp: \",inp.shape)\n",
    "print(\"lat: \",lat.shape)\n",
    "print(\"long: \",long.shape)\n",
    "print(\"orog: \",orog.shape)\n",
    "print(\"time1: \",time1.shape)\n",
    "#print(\"time2: \",time2.shape)"
   ]
  },
  {
   "attachments": {},
   "cell_type": "markdown",
   "metadata": {},
   "source": [
    "- 3.2-. Normalización de los tensores: "
   ]
  },
  {
   "cell_type": "code",
   "execution_count": 13,
   "metadata": {},
   "outputs": [],
   "source": [
    "target_norm, scale_factor_target = era5.normalization(target, for_target=True)\n",
    "inp_norm, scale_factor_inp = era5.normalization(inp)\n",
    "lat_norm, scale_factor_lat = era5.normalization(lat)\n",
    "lon_norm, scale_factor_lon = era5.normalization(long)\n",
    "orog_norm, scale_factor_orog = era5.normalization(orog)\n",
    "time_norm, scale_factor_time = era5.normalization(time1)"
   ]
  },
  {
   "cell_type": "code",
   "execution_count": 14,
   "metadata": {},
   "outputs": [
    {
     "name": "stdout",
     "output_type": "stream",
     "text": [
      "target- num valores nan: 296894\n",
      "inp- num valores nan: 0\n",
      "lat- num valores nan: 0\n",
      "lot- num valores nan: 0\n",
      "orog- num valores nan: 0\n",
      "time1- num valores nan: 0\n",
      "time2- num valores nan: 0\n"
     ]
    }
   ],
   "source": [
    "era5.cantidad_nan(inputs=[target_norm,inp_norm,lat_norm,lon_norm,orog_norm,time_norm,time2_np])"
   ]
  },
  {
   "cell_type": "code",
   "execution_count": 15,
   "metadata": {},
   "outputs": [
    {
     "name": "stdout",
     "output_type": "stream",
     "text": [
      "Cantidad de parches nulos:  0\n",
      "Cantidad de parches no nulos:  1216\n"
     ]
    }
   ],
   "source": [
    "idx_2=era5.parches_nan_target(target_norm)"
   ]
  },
  {
   "attachments": {},
   "cell_type": "markdown",
   "metadata": {},
   "source": [
    "- 3.3-. Segmentación de los tensores"
   ]
  },
  {
   "cell_type": "code",
   "execution_count": 16,
   "metadata": {},
   "outputs": [],
   "source": [
    "(inp_tr,time_tr,orog_tr,lat_tr,lon_tr,target_tr,\n",
    " inp_va,time_va,orog_va,lat_va,lon_va,target_va,\n",
    " inp_te,time_te, orog_te,lat_te,lon_te, target_te) = era5.mysplit(inp_norm,time_norm,orog_norm,lat_norm,lon_norm,target_norm)"
   ]
  },
  {
   "attachments": {},
   "cell_type": "markdown",
   "metadata": {},
   "source": [
    "- Ajuste de las dimensiones para *time1*:"
   ]
  },
  {
   "cell_type": "code",
   "execution_count": 17,
   "metadata": {},
   "outputs": [],
   "source": [
    "time_norm, scale_factor_time = era5.normalization(time2_np[:inp_norm.shape[0]])\n",
    "time_tr =time_norm[:inp_tr.shape[0]]\n",
    "time_va = time_norm[inp_tr.shape[0]:inp_tr.shape[0]+inp_va.shape[0]]\n",
    "time_te = time_norm[inp_tr.shape[0]+inp_va.shape[0]:inp_norm.shape[0]]"
   ]
  },
  {
   "attachments": {},
   "cell_type": "markdown",
   "metadata": {},
   "source": [
    "##### Resumen división de la data:"
   ]
  },
  {
   "cell_type": "code",
   "execution_count": 18,
   "metadata": {},
   "outputs": [
    {
     "name": "stdout",
     "output_type": "stream",
     "text": [
      "########## Entrenamiento ##########\n",
      "target:  (729, 1, 32, 32, 1)\n",
      "inp:  (729, 3, 32, 32, 1)\n",
      "lat:  (729, 3, 32, 32, 1)\n",
      "long:  (729, 3, 32, 32, 1)\n",
      "orog:  (729, 3, 32, 32, 1)\n",
      "time1:  (729, 3, 4, 4, 1)\n"
     ]
    }
   ],
   "source": [
    "print(\"#\"*10+\" \"+\"Entrenamiento\"+\" \"+\"#\"*10)\n",
    "print(\"target: \",target_tr.shape)\n",
    "print(\"inp: \",inp_tr.shape)\n",
    "print(\"lat: \",lat_tr.shape)\n",
    "print(\"long: \",lon_tr.shape)\n",
    "print(\"orog: \",orog_tr.shape)\n",
    "print(\"time1: \",time_tr.shape)"
   ]
  },
  {
   "cell_type": "code",
   "execution_count": 19,
   "metadata": {},
   "outputs": [
    {
     "name": "stdout",
     "output_type": "stream",
     "text": [
      "########## Validación ##########\n",
      "target:  (243, 1, 32, 32, 1)\n",
      "inp:  (243, 3, 32, 32, 1)\n",
      "lat:  (243, 3, 32, 32, 1)\n",
      "long:  (243, 3, 32, 32, 1)\n",
      "orog:  (243, 3, 32, 32, 1)\n",
      "time1:  (243, 3, 4, 4, 1)\n"
     ]
    }
   ],
   "source": [
    "print(\"#\"*10+\" \"+\"Validación\"+\" \"+\"#\"*10)\n",
    "print(\"target: \",target_va.shape)\n",
    "print(\"inp: \",inp_va.shape)\n",
    "print(\"lat: \",lat_va.shape)\n",
    "print(\"long: \",lon_va.shape)\n",
    "print(\"orog: \",orog_va.shape)\n",
    "print(\"time1: \",time_va.shape)"
   ]
  },
  {
   "cell_type": "code",
   "execution_count": 20,
   "metadata": {},
   "outputs": [
    {
     "name": "stdout",
     "output_type": "stream",
     "text": [
      "########## Testeo ##########\n",
      "target:  (244, 1, 32, 32, 1)\n",
      "inp:  (244, 3, 32, 32, 1)\n",
      "lat:  (244, 3, 32, 32, 1)\n",
      "long:  (244, 3, 32, 32, 1)\n",
      "orog:  (244, 3, 32, 32, 1)\n",
      "time1:  (244, 3, 4, 4, 1)\n"
     ]
    }
   ],
   "source": [
    "print(\"#\"*10+\" \"+\"Testeo\"+\" \"+\"#\"*10)\n",
    "print(\"target: \",target_te.shape)\n",
    "print(\"inp: \",inp_te.shape)\n",
    "print(\"lat: \",lat_te.shape)\n",
    "print(\"long: \",lon_te.shape)\n",
    "print(\"orog: \",orog_te.shape)\n",
    "print(\"time1: \",time_te.shape)"
   ]
  },
  {
   "attachments": {},
   "cell_type": "markdown",
   "metadata": {},
   "source": [
    "#### 4-. Entrenamiento de la red:\n",
    "\n",
    "Nota: De momento no contamos con entrenamiento de la red debido a que no contamos con una metodología clara para solucionar el problema de los Nan en los target."
   ]
  },
  {
   "attachments": {},
   "cell_type": "markdown",
   "metadata": {},
   "source": [
    "##### Red con pérdida grad loss:"
   ]
  },
  {
   "cell_type": "code",
   "execution_count": 21,
   "metadata": {},
   "outputs": [],
   "source": [
    "def grad_loss_1(v_gt, v):\n",
    "    # Gradient loss\n",
    "\n",
    "    res=v-v_gt\n",
    "    loss = tf.reduce_mean(tf.abs(res), axis=[0,1,2]) # modificada   \n",
    "    print(\"res: \",res.shape)\n",
    "    #tf.reduce_mean(tf.boolean_mask(v - v_gt, tf.is_finite(v-v_gt)), axis=[0,1,2]) \n",
    "\n",
    "    jy = v[:, 0, :, :] - v[:, :, :, :] # modificada\n",
    "    #jy = v[:,1:,:,:] - v[:,:-1,:,:]\n",
    "    jx = v[:,:,1:,:] - v[:,:,:-1,:]\n",
    "    jy_ = v_gt[:,0,:,:] - v_gt[:,:,:,:] # modificada\n",
    "    #jy_ = v_gt[:, 1:, :, :] - v_gt[:,:-1, :, :]\n",
    "    jx_ = v_gt[:,:,1:,:] - v_gt[:,:,:-1,:]\n",
    "\n",
    "    #HACER EL MISMO CAMBIO QUE ARRIBA\n",
    "    loss += tf.reduce_mean(tf.abs(jy - jy_), axis=[0,1,2]) # modificada\n",
    "    loss += tf.reduce_mean(tf.abs(jx - jx_), axis=[0,1,2]) # modificada\n",
    "    print('loss:',loss.shape,loss)\n",
    "\n",
    "    #filtrar valores NAn  \n",
    "\n",
    "    return loss"
   ]
  },
  {
   "cell_type": "code",
   "execution_count": 22,
   "metadata": {},
   "outputs": [],
   "source": [
    "def grad_loss_2(v_gt, v):\n",
    "    # Gradient loss\n",
    "    print(\"v: \",v)\n",
    "    print(\"##########\")\n",
    "    print(\"v_gt: \",v_gt)\n",
    "\n",
    "    loss = tf.reduce_mean(tf.abs(v - v_gt), axis=[0,1,2]) \n",
    "    print(loss.shape)\n",
    "    res=v-v_gt\n",
    "    print(\"res: \",res.shape)\n",
    "    finite=tf.math.is_finite(res)\n",
    "    print(\"finite: \",finite.shape)\n",
    "    mask=tf.boolean_mask(v - v_gt, finite )\n",
    "    mask=tf.reshape(mask, [1,32,32,1])\n",
    "    print(\"type mask: \",type(mask))\n",
    "    print(\"mask: \",mask.shape)\n",
    "    loss = tf.reduce_mean(mask, axis=[0,1]) \n",
    "    print(\"second loss: \",loss.shape)\n",
    "\n",
    "    jy = v[:, 0, :, :] - v[:, :, :, :] # modificada\n",
    "    jy = v[:,1:,:,:] - v[:,:-1,:,:]\n",
    "    jx = v[:,:,1:,:] - v[:,:,:-1,:]\n",
    "    jy_ = v_gt[:,0,:,:] - v_gt[:,:,:,:] # modificada\n",
    "    jy_ = v_gt[:, 1:, :, :] - v_gt[:,:-1, :, :]\n",
    "    jx_ = v_gt[:,:,1:,:] - v_gt[:,:,:-1,:]\n",
    "\n",
    "\n",
    "    #antes\n",
    "    #loss += tf.reduce_mean(tf.abs(jy - jy_), axis=[0,1,2]) # modificada\n",
    "    #loss += tf.reduce_mean(tf.abs(jx - jx_), axis=[0,1,2]) # modificada\n",
    "\n",
    "    #modificado\n",
    "    loss += tf.reduce_mean(tf.reshape( tf.boolean_mask(jy - jy_, tf.math.is_finite(jy-jy_)), [1,32,32,1]), axis=[0,1])\n",
    "    print(\"Pasó el primero\")\n",
    "    loss += tf.reduce_mean(tf.reshape( tf.boolean_mask(jx - jx_, tf.math.is_finite(jx-jx_)), [1,32,32,1]), axis=[0,1])#, keepdims=True) \n",
    "    print('loss:',loss.shape,loss)\n",
    "    print(\"Vuelta terminada\")\n",
    "\n",
    "    #filtrar valores NAn  ¿?\n",
    "\n",
    "    return loss"
   ]
  },
  {
   "cell_type": "code",
   "execution_count": 23,
   "metadata": {},
   "outputs": [],
   "source": [
    "def grad_loss_3(v_gt,v):\n",
    "\n",
    "    # Gradient loss\n",
    "    print(\"v: \",v)\n",
    "    print(\"##########\")\n",
    "    print(\"v_gt: \",v_gt)\n",
    "\n",
    "    if v.shape[0] == None:\n",
    "        \n",
    "        loss = tf.reduce_mean(tf.abs(v - v_gt), axis=[0,1,2]) \n",
    "        print(loss.shape)\n",
    "        res=v-v_gt\n",
    "        print(\"res: \",res.shape)\n",
    "        finite=tf.math.is_finite(res)\n",
    "        print(\"finite: \",finite.shape)\n",
    "        mask=tf.boolean_mask(v - v_gt, finite )\n",
    "        mask=tf.reshape(mask, [1,32,32,1])\n",
    "        print(\"type mask: \",type(mask))\n",
    "        print(\"mask: \",mask.shape)\n",
    "        loss = tf.reduce_mean(mask, axis=[0,1]) \n",
    "        print(\"second loss: \",loss.shape)\n",
    "\n",
    "        jy = v[:, 0, :, :] - v[:, :, :, :] # modificada\n",
    "        jy = v[:,1:,:,:] - v[:,:-1,:,:]\n",
    "        jx = v[:,:,1:,:] - v[:,:,:-1,:]\n",
    "        jy_ = v_gt[:,0,:,:] - v_gt[:,:,:,:] # modificada\n",
    "        jy_ = v_gt[:, 1:, :, :] - v_gt[:,:-1, :, :]\n",
    "        jx_ = v_gt[:,:,1:,:] - v_gt[:,:,:-1,:]\n",
    "\n",
    "        loss += tf.reduce_mean(tf.reshape( tf.boolean_mask(jy - jy_, tf.math.is_finite(jy-jy_)), [1,32,32,1]), axis=[0,1])\n",
    "        print(\"Pasó el primero\")\n",
    "        loss += tf.reduce_mean(tf.reshape( tf.boolean_mask(jx - jx_, tf.math.is_finite(jx-jx_)), [1,32,32,1]), axis=[0,1])#, keepdims=True) \n",
    "        print('loss:',loss.shape,loss)\n",
    "        print(\"Vuelta terminada\")\n",
    "\n",
    "        return loss\n",
    "\n",
    "    else:\n",
    "        loss = tf.reduce_mean(tf.abs(v - v_gt), axis=[0,1,2]) \n",
    "        print(loss.shape)\n",
    "        res=v-v_gt\n",
    "        print(\"res: \",res.shape)\n",
    "        finite=tf.math.is_finite(res)\n",
    "        print(\"finite: \",finite.shape)\n",
    "        mask=tf.boolean_mask(v - v_gt, finite )\n",
    "        #mask=tf.reshape(mask, [1,32,32,1])\n",
    "        print(\"type mask: \",type(mask))\n",
    "        print(\"mask: \",mask.shape)\n",
    "        loss = tf.reduce_mean(mask, axis=[0,1,2]) \n",
    "        print(\"second loss: \",loss.shape)\n",
    "\n",
    "        jy = v[:, 0, :, :] - v[:, :, :, :] # modificada\n",
    "        jy = v[:,1:,:,:] - v[:,:-1,:,:]\n",
    "        jx = v[:,:,1:,:] - v[:,:,:-1,:]\n",
    "        jy_ = v_gt[:,0,:,:] - v_gt[:,:,:,:] # modificada\n",
    "        jy_ = v_gt[:, 1:, :, :] - v_gt[:,:-1, :, :]\n",
    "        jx_ = v_gt[:,:,1:,:] - v_gt[:,:,:-1,:]\n",
    "\n",
    "        loss += tf.reduce_mean( tf.boolean_mask(jy - jy_, tf.math.is_finite(jy-jy_)), axis=[0,1,2])\n",
    "        print(\"Pasó el primero\")\n",
    "        loss += tf.reduce_mean( tf.boolean_mask(jx - jx_, tf.math.is_finite(jx-jx_)), axis=[0,1,2])#, keepdims=True) \n",
    "        print('loss:',loss.shape,loss)\n",
    "        print(\"Vuelta terminada\")\n",
    "\n",
    "        return loss"
   ]
  },
  {
   "cell_type": "code",
   "execution_count": null,
   "metadata": {},
   "outputs": [],
   "source": [
    "model_grad_loss = cnn.get_model(loss=grad_loss_3)\n",
    "# model = cnn.get_model(residual=True) # RPN\n",
    "#model_grad_loss.summary()\n",
    "\n",
    "h_grad_loss=model_grad_loss.fit([inp_tr,time_tr,lat_tr,lon_tr,orog_tr], target_tr, epochs=4,\n",
    "            validation_data=([inp_va,time_va,lat_va,lon_va,orog_va], target_va))"
   ]
  },
  {
   "cell_type": "code",
   "execution_count": null,
   "metadata": {},
   "outputs": [],
   "source": [
    "import matplotlib.pyplot as plt\n",
    "plt.figure(figsize=[12,3])\n",
    "plt.plot(h_grad_loss.history['mae'][1:], label='mae')\n",
    "plt.plot(h_grad_loss.history['val_mae'][1:], label = 'val_mae')\n",
    "plt.xlabel('Epoch')\n",
    "plt.ylabel('MAE')\n",
    "#plt.ylim([0.0, 1])\n",
    "plt.legend(loc='lower right')\n",
    "plt.show()"
   ]
  },
  {
   "attachments": {},
   "cell_type": "markdown",
   "metadata": {},
   "source": [
    "##### 5.2 Red con pérdida mse"
   ]
  },
  {
   "cell_type": "code",
   "execution_count": null,
   "metadata": {},
   "outputs": [],
   "source": [
    "model_mse = cnn.get_model(loss='mse')#, residual=True) # DCN\n",
    "# model = cnn.get_model(residual=True) # RPN\n",
    "#model_mse.summary()\n",
    "h_mse=model_mse.fit([inp_tr,time_tr,lat_tr,lon_tr,orog_tr], target_tr, epochs=4,\n",
    "            validation_data=([inp_va,time_va,lat_va,lon_va,orog_va], target_va))"
   ]
  },
  {
   "attachments": {},
   "cell_type": "markdown",
   "metadata": {},
   "source": [
    "5.3 Red con pérdida mae"
   ]
  },
  {
   "cell_type": "code",
   "execution_count": null,
   "metadata": {},
   "outputs": [],
   "source": [
    "model_mae = cnn.get_model(loss='mae')#, residual=True) # DCN\n",
    "# model = cnn.get_model(residual=True) # RPN\n",
    "#model_mse.summary()\n",
    "h_mae=model_mae.fit([inp_tr,time_tr,lat_tr,lon_tr,orog_tr], target_tr, epochs=4,\n",
    "            validation_data=([inp_va,time_va,lat_va,lon_va,orog_va], target_va))"
   ]
  }
 ],
 "metadata": {
  "kernelspec": {
   "display_name": "dwn",
   "language": "python",
   "name": "python3"
  },
  "language_info": {
   "codemirror_mode": {
    "name": "ipython",
    "version": 3
   },
   "file_extension": ".py",
   "mimetype": "text/x-python",
   "name": "python",
   "nbconvert_exporter": "python",
   "pygments_lexer": "ipython3",
   "version": "3.10.4"
  },
  "orig_nbformat": 4,
  "vscode": {
   "interpreter": {
    "hash": "1664646ee1ee7436913086bd661f1e55a1a3e9114cda155eb6ff76a703f6c893"
   }
  }
 },
 "nbformat": 4,
 "nbformat_minor": 2
}
